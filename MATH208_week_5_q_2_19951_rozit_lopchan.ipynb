{
  "nbformat": 4,
  "nbformat_minor": 0,
  "metadata": {
    "colab": {
      "provenance": [],
      "authorship_tag": "ABX9TyObLlUdm/aZisitrAwhlfsW",
      "include_colab_link": true
    },
    "kernelspec": {
      "name": "python3",
      "display_name": "Python 3"
    },
    "language_info": {
      "name": "python"
    }
  },
  "cells": [
    {
      "cell_type": "markdown",
      "metadata": {
        "id": "view-in-github",
        "colab_type": "text"
      },
      "source": [
        "<a href=\"https://colab.research.google.com/github/Roz1t/Math208/blob/main/MATH208_week_5_q_2_19951_rozit_lopchan.ipynb\" target=\"_parent\"><img src=\"https://colab.research.google.com/assets/colab-badge.svg\" alt=\"Open In Colab\"/></a>"
      ]
    },
    {
      "cell_type": "code",
      "source": [
        "import numpy as np\n",
        "\n",
        "random_numbers_uniform = np.random.uniform(-20, 20, 50)\n",
        "\n",
        "random_numbers_uniform = np.array(random_numbers_uniform)\n",
        "\n",
        "def verify_chebyshev(numbers, k):\n",
        "    mean = np.mean(numbers)\n",
        "    std_dev = np.std(numbers)\n",
        "\n",
        "    within_range_count = np.sum((numbers >= (mean - k * std_dev)) & (numbers <= (mean + k * std_dev)))\n",
        "\n",
        "    probability_within_range = within_range_count / len(numbers)\n",
        "\n",
        "    theoretical_lower_bound = 1 - 1 / k ** 2\n",
        "\n",
        "    return probability_within_range, theoretical_lower_bound\n",
        "\n",
        "for k in range(1, 6):\n",
        "    observed_probability, theoretical_lower_bound = verify_chebyshev(random_numbers_uniform, k)\n",
        "\n",
        "    satisfied = observed_probability >= theoretical_lower_bound\n",
        "\n",
        "    print(f\"For k = {k}:\")\n",
        "    print(f\"Probability of falling within {k} standard deviations: {observed_probability:.2f}\")\n",
        "    print(f\"Theoretical lower bound: {theoretical_lower_bound:.2f}\")\n",
        "    print(f\"Inequality Satisfied: {'Yes' if satisfied else 'No'}\\n\")\n"
      ],
      "metadata": {
        "colab": {
          "base_uri": "https://localhost:8080/"
        },
        "id": "DrpRj5ED0_hC",
        "outputId": "e35a626a-d22b-4aa4-b5ab-52784b82ffc7"
      },
      "execution_count": 10,
      "outputs": [
        {
          "output_type": "stream",
          "name": "stdout",
          "text": [
            "For k = 1:\n",
            "Probability of falling within 1 standard deviations: 0.58\n",
            "Theoretical lower bound: 0.00\n",
            "Inequality Satisfied: Yes\n",
            "\n",
            "For k = 2:\n",
            "Probability of falling within 2 standard deviations: 0.98\n",
            "Theoretical lower bound: 0.75\n",
            "Inequality Satisfied: Yes\n",
            "\n",
            "For k = 3:\n",
            "Probability of falling within 3 standard deviations: 1.00\n",
            "Theoretical lower bound: 0.89\n",
            "Inequality Satisfied: Yes\n",
            "\n",
            "For k = 4:\n",
            "Probability of falling within 4 standard deviations: 1.00\n",
            "Theoretical lower bound: 0.94\n",
            "Inequality Satisfied: Yes\n",
            "\n",
            "For k = 5:\n",
            "Probability of falling within 5 standard deviations: 1.00\n",
            "Theoretical lower bound: 0.96\n",
            "Inequality Satisfied: Yes\n",
            "\n"
          ]
        }
      ]
    }
  ]
}