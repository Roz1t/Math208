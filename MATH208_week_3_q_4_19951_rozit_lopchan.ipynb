{
  "nbformat": 4,
  "nbformat_minor": 0,
  "metadata": {
    "colab": {
      "provenance": [],
      "authorship_tag": "ABX9TyN42leuLbu3xqFC0dknw7zf",
      "include_colab_link": true
    },
    "kernelspec": {
      "name": "python3",
      "display_name": "Python 3"
    },
    "language_info": {
      "name": "python"
    }
  },
  "cells": [
    {
      "cell_type": "markdown",
      "metadata": {
        "id": "view-in-github",
        "colab_type": "text"
      },
      "source": [
        "<a href=\"https://colab.research.google.com/github/Roz1t/Math208/blob/main/MATH208_week_3_q_4_19951_rozit_lopchan.ipynb\" target=\"_parent\"><img src=\"https://colab.research.google.com/assets/colab-badge.svg\" alt=\"Open In Colab\"/></a>"
      ]
    },
    {
      "cell_type": "code",
      "source": [
        "def calculate_median(data):\n",
        "    sorted_data = sorted(data)\n",
        "    n = len(sorted_data)\n",
        "    if n % 2 == 0:\n",
        "        middle1 = sorted_data[n // 2 - 1]\n",
        "        middle2 = sorted_data[n // 2]\n",
        "        median = (middle1 + middle2) / 2\n",
        "    else:\n",
        "        median = sorted_data[n // 2]\n",
        "    return median\n",
        "\n",
        "def calculate_mode(data):\n",
        "    counts = {}\n",
        "    for value in data:\n",
        "        counts[value] = counts.get(value, 0) + 1\n",
        "\n",
        "    mode = None\n",
        "    max_count = 0\n",
        "\n",
        "    for value, count in counts.items():\n",
        "        if count > max_count:\n",
        "            mode = value\n",
        "            max_count = count\n",
        "\n",
        "    return mode\n",
        "\n",
        "def calculate_quartiles(data):\n",
        "    sorted_data = sorted(data)\n",
        "    n = len(sorted_data)\n",
        "    mid = n // 2\n",
        "\n",
        "    if n % 2 == 0:\n",
        "        q1 = calculate_median(sorted_data[:mid])\n",
        "        q3 = calculate_median(sorted_data[mid:])\n",
        "    else:\n",
        "        q1 = calculate_median(sorted_data[:mid])\n",
        "        q3 = calculate_median(sorted_data[mid + 1:])\n",
        "\n",
        "    return q1, q3\n",
        "\n",
        "def calculate_percentiles(data):\n",
        "    sorted_data = sorted(data)\n",
        "    n = len(sorted_data)\n",
        "\n",
        "    p10_index = int(0.1 * (n - 1))\n",
        "    p10 = sorted_data[p10_index]\n",
        "\n",
        "    p95_index = int(0.95 * (n - 1))\n",
        "    p95 = sorted_data[p95_index]\n",
        "\n",
        "    return p10, p95\n",
        "\n",
        "data = [\n",
        "    11, 14, 15, 15, 16, 16, 17, 18, 19, 21, 25, 36,\n",
        "    12, 14, 15, 15, 16, 16, 17, 18, 19, 21, 25, 39,\n",
        "    13, 14, 15, 15, 16, 17, 17, 18, 20, 22, 26, 43,\n",
        "    13, 14, 15, 15, 16, 17, 17, 18, 20, 22, 26, 46,\n",
        "    13, 14, 15, 16, 16, 17, 17, 18, 20, 22, 27, 50,\n",
        "    13, 14, 15, 16, 16, 17, 17, 19, 20, 23, 27, 54,\n",
        "    13, 14, 15, 16, 16, 17, 18, 19, 20, 23, 29, 59,\n",
        "    13, 15, 15, 16, 16, 17, 18, 19, 20, 23, 30, 67,\n",
        "    14, 15, 15, 16, 16, 17, 18, 19, 21, 24, 31,\n",
        "    14, 15, 15, 16, 16, 17, 18, 19, 21, 24, 34,\n",
        "]\n",
        "\n",
        "median = calculate_median(data)\n",
        "mode = calculate_mode(data)\n",
        "q1, q3 = calculate_quartiles(data)\n",
        "p10, p95 = calculate_percentiles(data)\n",
        "\n",
        "print(\"Statistics for the Data:\")\n",
        "print(\"Median:\", median)\n",
        "print(\"Mode:\", mode)\n",
        "print(\"Q1 (First Quartile):\", q1)\n",
        "print(\"Q3 (Third Quartile):\", q3)\n",
        "print(\"P10 (Tenth Percentile):\", p10)\n",
        "print(\"P95 (Ninety-fifth Percentile):\", p95)\n"
      ],
      "metadata": {
        "colab": {
          "base_uri": "https://localhost:8080/"
        },
        "id": "O1Jn5tLm66UF",
        "outputId": "e7d74a6e-b6ca-4e3c-907a-c4b4e492cda9"
      },
      "execution_count": null,
      "outputs": [
        {
          "output_type": "stream",
          "name": "stdout",
          "text": [
            "Statistics for the Data:\n",
            "Median: 17.0\n",
            "Mode: 16\n",
            "Q1 (First Quartile): 15\n",
            "Q3 (Third Quartile): 21\n",
            "P10 (Tenth Percentile): 14\n",
            "P95 (Ninety-fifth Percentile): 39\n"
          ]
        }
      ]
    }
  ]
}