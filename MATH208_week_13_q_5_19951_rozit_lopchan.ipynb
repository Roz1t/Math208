{
  "nbformat": 4,
  "nbformat_minor": 0,
  "metadata": {
    "colab": {
      "provenance": [],
      "authorship_tag": "ABX9TyOuDOa4PAMThNb1HegMD1Z8",
      "include_colab_link": true
    },
    "kernelspec": {
      "name": "python3",
      "display_name": "Python 3"
    },
    "language_info": {
      "name": "python"
    }
  },
  "cells": [
    {
      "cell_type": "markdown",
      "metadata": {
        "id": "view-in-github",
        "colab_type": "text"
      },
      "source": [
        "<a href=\"https://colab.research.google.com/github/Roz1t/Math208/blob/main/MATH208_week_13_q_5_19951_rozit_lopchan.ipynb\" target=\"_parent\"><img src=\"https://colab.research.google.com/assets/colab-badge.svg\" alt=\"Open In Colab\"/></a>"
      ]
    },
    {
      "cell_type": "code",
      "execution_count": 4,
      "metadata": {
        "colab": {
          "base_uri": "https://localhost:8080/"
        },
        "id": "_-uZdwrSAlEl",
        "outputId": "97da7e3c-fcd4-4bbc-9be1-8bfdb4be635b"
      },
      "outputs": [
        {
          "output_type": "stream",
          "name": "stdout",
          "text": [
            "The probability of getting exactly 6 heads in 12 tosses is: 0.2303\n"
          ]
        }
      ],
      "source": [
        "import math\n",
        "from scipy.stats import norm\n",
        "\n",
        "def binomial_mean_and_stddev(n, p):\n",
        "    mu = n * p\n",
        "    sigma = math.sqrt(n * p * (1 - p))\n",
        "    return mu, sigma\n",
        "\n",
        "def probability_of_exact_heads(n, k, p):\n",
        "    mu, sigma = binomial_mean_and_stddev(n, p)\n",
        "\n",
        "    probability = norm.pdf(k, mu, sigma)\n",
        "\n",
        "    return probability\n",
        "\n",
        "if __name__ == \"__main__\":\n",
        "    n = 12\n",
        "    k = 6\n",
        "    p = 0.5\n",
        "    result = probability_of_exact_heads(n, k, p)\n",
        "\n",
        "    print(f\"The probability of getting exactly {k} heads in {n} tosses is: {result:.4f}\")\n"
      ]
    }
  ]
}