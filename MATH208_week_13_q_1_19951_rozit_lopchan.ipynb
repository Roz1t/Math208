{
  "nbformat": 4,
  "nbformat_minor": 0,
  "metadata": {
    "colab": {
      "provenance": [],
      "authorship_tag": "ABX9TyOZ473EHN4kwO9jAtN6L1YB",
      "include_colab_link": true
    },
    "kernelspec": {
      "name": "python3",
      "display_name": "Python 3"
    },
    "language_info": {
      "name": "python"
    }
  },
  "cells": [
    {
      "cell_type": "markdown",
      "metadata": {
        "id": "view-in-github",
        "colab_type": "text"
      },
      "source": [
        "<a href=\"https://colab.research.google.com/github/Roz1t/Math208/blob/main/MATH208_week_13_q_1_19951_rozit_lopchan.ipynb\" target=\"_parent\"><img src=\"https://colab.research.google.com/assets/colab-badge.svg\" alt=\"Open In Colab\"/></a>"
      ]
    },
    {
      "cell_type": "code",
      "execution_count": 1,
      "metadata": {
        "colab": {
          "base_uri": "https://localhost:8080/"
        },
        "id": "_-uZdwrSAlEl",
        "outputId": "0e8e7cc6-6ace-4ea6-a4e2-dd3e2c148e80"
      },
      "outputs": [
        {
          "output_type": "stream",
          "name": "stdout",
          "text": [
            "a. Percentage less than 9cm: 2.28%\n",
            "b. Percentage between 9.5cm and 10.6cm: 56.86%\n",
            "c. Minimum length for the top 20%: 10.85cm\n"
          ]
        }
      ],
      "source": [
        "import scipy.stats as stats\n",
        "\n",
        "mean = 10.3\n",
        "std_dev = 0.65\n",
        "\n",
        "#a. Less than 9cm\n",
        "z_a = (9 - mean) / std_dev\n",
        "\n",
        "#b. Between 9.5cm and 10.6cm\n",
        "z_b_lower = (9.5 - mean) / std_dev\n",
        "z_b_upper = (10.6 - mean) / std_dev\n",
        "\n",
        "#c. Minimum length for the top 20%\n",
        "z_c = stats.norm.ppf(0.8)\n",
        "\n",
        "percent_a = stats.norm.cdf(z_a) * 100\n",
        "percent_b = (stats.norm.cdf(z_b_upper) - stats.norm.cdf(z_b_lower)) * 100\n",
        "length_c = mean + z_c * std_dev\n",
        "\n",
        "print(f\"a. Percentage less than 9cm: {percent_a:.2f}%\")\n",
        "print(f\"b. Percentage between 9.5cm and 10.6cm: {percent_b:.2f}%\")\n",
        "print(f\"c. Minimum length for the top 20%: {length_c:.2f}cm\")\n"
      ]
    }
  ]
}