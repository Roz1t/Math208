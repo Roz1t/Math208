{
  "nbformat": 4,
  "nbformat_minor": 0,
  "metadata": {
    "colab": {
      "provenance": [],
      "authorship_tag": "ABX9TyOoMp6sdrnPie4qOVHPLVIe",
      "include_colab_link": true
    },
    "kernelspec": {
      "name": "python3",
      "display_name": "Python 3"
    },
    "language_info": {
      "name": "python"
    }
  },
  "cells": [
    {
      "cell_type": "markdown",
      "metadata": {
        "id": "view-in-github",
        "colab_type": "text"
      },
      "source": [
        "<a href=\"https://colab.research.google.com/github/Roz1t/Math208/blob/main/MATH208_week_13_q_3_19951_rozit_lopchan.ipynb\" target=\"_parent\"><img src=\"https://colab.research.google.com/assets/colab-badge.svg\" alt=\"Open In Colab\"/></a>"
      ]
    },
    {
      "cell_type": "code",
      "execution_count": 2,
      "metadata": {
        "colab": {
          "base_uri": "https://localhost:8080/"
        },
        "id": "_-uZdwrSAlEl",
        "outputId": "29528a51-eb98-48e2-dc56-2db746013b4b"
      },
      "outputs": [
        {
          "output_type": "stream",
          "name": "stdout",
          "text": [
            "Actual Mean: 4.923\n",
            "Expected Mean: 5.0\n",
            "Mean condition satisfied: True\n",
            "Actual Standard Deviation: 2.109282105361917\n",
            "Expected Standard Deviation: 2.179449471770337\n",
            "Standard deviation condition satisfied: True\n"
          ]
        }
      ],
      "source": [
        "import numpy as np\n",
        "\n",
        "def verify_binomial_distribution(p, n):\n",
        "    binomial_data = np.random.binomial(n, p, 1000)\n",
        "\n",
        "    mean_calculated = binomial_data.mean()\n",
        "    std_dev_calculated = binomial_data.std()\n",
        "\n",
        "    mean_expected = n * p\n",
        "    std_dev_expected = np.sqrt(n * p * (1 - p))\n",
        "\n",
        "    mean_condition = np.isclose(mean_calculated, mean_expected, rtol=1e-1)\n",
        "    std_dev_condition = np.isclose(std_dev_calculated, std_dev_expected, rtol=1e-1)\n",
        "\n",
        "    output = {\n",
        "        \"Actual Mean\": mean_calculated,\n",
        "        \"Expected Mean\": mean_expected,\n",
        "        \"Mean condition satisfied\": mean_condition,\n",
        "        \"Actual Standard Deviation\": std_dev_calculated,\n",
        "        \"Expected Standard Deviation\": std_dev_expected,\n",
        "        \"Standard deviation condition satisfied\": std_dev_condition,\n",
        "    }\n",
        "\n",
        "    return output\n",
        "\n",
        "p = 0.05\n",
        "n = 100\n",
        "\n",
        "result = verify_binomial_distribution(p, n)\n",
        "\n",
        "for key, value in result.items():\n",
        "    print(f\"{key}: {value}\")\n"
      ]
    }
  ]
}