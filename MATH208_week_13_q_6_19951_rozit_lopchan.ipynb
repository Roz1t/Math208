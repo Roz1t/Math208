{
  "nbformat": 4,
  "nbformat_minor": 0,
  "metadata": {
    "colab": {
      "provenance": [],
      "authorship_tag": "ABX9TyM5o+HnW6YI37akG2vmk9tz",
      "include_colab_link": true
    },
    "kernelspec": {
      "name": "python3",
      "display_name": "Python 3"
    },
    "language_info": {
      "name": "python"
    }
  },
  "cells": [
    {
      "cell_type": "markdown",
      "metadata": {
        "id": "view-in-github",
        "colab_type": "text"
      },
      "source": [
        "<a href=\"https://colab.research.google.com/github/Roz1t/Math208/blob/main/MATH208_week_13_q_6_19951_rozit_lopchan.ipynb\" target=\"_parent\"><img src=\"https://colab.research.google.com/assets/colab-badge.svg\" alt=\"Open In Colab\"/></a>"
      ]
    },
    {
      "cell_type": "code",
      "execution_count": 5,
      "metadata": {
        "colab": {
          "base_uri": "https://localhost:8080/"
        },
        "id": "_-uZdwrSAlEl",
        "outputId": "7a7cc472-3a76-4be9-d25c-b9df97fab584"
      },
      "outputs": [
        {
          "output_type": "stream",
          "name": "stdout",
          "text": [
            "The probability of having 12 or more defective batteries out of 150 is: 0.2458\n"
          ]
        }
      ],
      "source": [
        "import math\n",
        "from scipy.stats import norm\n",
        "\n",
        "def binomial_mean_and_stddev(n, p):\n",
        "    mu = n * p\n",
        "    sigma = math.sqrt(n * p * (1 - p))\n",
        "    return mu, sigma\n",
        "\n",
        "def probability_of_at_least_defective(n, k, p):\n",
        "    mu, sigma = binomial_mean_and_stddev(n, p)\n",
        "\n",
        "    probability = 1 - norm.cdf(k - 1, mu, sigma)\n",
        "\n",
        "    return probability\n",
        "\n",
        "if __name__ == \"__main__\":\n",
        "\n",
        "    n = 150\n",
        "    p_defective = 0.06\n",
        "    k_defective = 12\n",
        "    result = probability_of_at_least_defective(n, k_defective, p_defective)\n",
        "\n",
        "    print(f\"The probability of having {k_defective} or more defective batteries out of {n} is: {result:.4f}\")\n",
        "\n"
      ]
    }
  ]
}